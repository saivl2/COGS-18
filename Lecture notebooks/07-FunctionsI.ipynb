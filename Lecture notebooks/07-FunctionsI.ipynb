{
 "cells": [
  {
   "cell_type": "markdown",
   "metadata": {
    "slideshow": {
     "slide_type": "slide"
    }
   },
   "source": [
    "# Functions I\n",
    "\n",
    "- defining a function\n",
    "    - `def`\n",
    "    - `return`\n",
    "- executing a function\n",
    "    - parameters\n",
    "    - separate namespace"
   ]
  },
  {
   "cell_type": "markdown",
   "metadata": {
    "slideshow": {
     "slide_type": "slide"
    }
   },
   "source": [
    "## COGS 18: Course Philosophy\n",
    "\n",
    "- **Lecture**: Introduce Concepts (no pressure)\n",
    "    - *just* learned the material seconds ago\n",
    "    - clicker questions have to be \"simpler\""
   ]
  },
  {
   "cell_type": "markdown",
   "metadata": {
    "slideshow": {
     "slide_type": "fragment"
    }
   },
   "source": [
    "- **CodingLab**: Get practice with concepts (low pressure)\n",
    "    - have 50 minutes to explore and deepen understanding\n",
    "    - challenge questions allow deeper exploration and understanding as we're not grading for completeness"
   ]
  },
  {
   "cell_type": "markdown",
   "metadata": {
    "slideshow": {
     "slide_type": "fragment"
    }
   },
   "source": [
    "- **Assignments**: Third time with the material and lots of time (medium pressure)\n",
    "    - graded for completeness\n",
    "    - but material has been seen before"
   ]
  },
  {
   "cell_type": "markdown",
   "metadata": {
    "slideshow": {
     "slide_type": "fragment"
    }
   },
   "source": [
    "- **Exams** (*typically*): Fourth time through with limited time (high pressure)\n",
    "    - Due to limited time & limited help, difficulty also limited\n",
    "    - Opportunity to solidify understanding of concepts"
   ]
  },
  {
   "cell_type": "markdown",
   "metadata": {},
   "source": [
    "## Coding Lab Extras\n",
    "\n",
    "Google Drive has docs and slides: https://drive.google.com/open?id=1_WJMMEZOvw7SdZyUzFfl3c76lSiHETa0"
   ]
  },
  {
   "cell_type": "markdown",
   "metadata": {},
   "source": [
    "## Vocab\n",
    "- **Define/create/make** a function: To set up and write the instructions for a function.\n",
    "\n",
    "- **Execute/call/use** a function: To actually use the pre-defined function.\n",
    "\n",
    "- **Input/parameter/argument**: A variable defined by the user that is put/passed in between the parantheses () that comes after the function name.\n",
    "\n",
    "Output: The variable that is returned to the user after the function is executed."
   ]
  },
  {
   "cell_type": "markdown",
   "metadata": {
    "slideshow": {
     "slide_type": "slide"
    }
   },
   "source": [
    "## Functions\n",
    "\n",
    "<div class=\"alert alert-success\">\n",
    "A function is a re-usable piece of code that performs operations on a specified set of variables, and returns the result.\n",
    "</div>"
   ]
  },
  {
   "cell_type": "markdown",
   "metadata": {
    "slideshow": {
     "slide_type": "fragment"
    }
   },
   "source": [
    "Copy + Pasting the same/similar bit of code is to be avoided.\n",
    "\n",
    "**Loops** were one way to avoid this.\n",
    "\n",
    "**Functions** are another!"
   ]
  },
  {
   "cell_type": "markdown",
   "metadata": {
    "slideshow": {
     "slide_type": "slide"
    }
   },
   "source": [
    "## Modular Programming\n",
    "\n",
    "<div class=\"alert alert-success\">\n",
    "Modular programming is an approach to programming that focuses on building programs from indendent modules ('pieces'). \n",
    "</div>"
   ]
  },
  {
   "cell_type": "markdown",
   "metadata": {
    "slideshow": {
     "slide_type": "slide"
    }
   },
   "source": [
    "## Functions for Modular Programming"
   ]
  },
  {
   "cell_type": "markdown",
   "metadata": {
    "slideshow": {
     "slide_type": "fragment"
    }
   },
   "source": [
    "- Functions allow us to flexibly re-use pieces of code\n",
    "- Each function is independent of every other function, and other pieces of code\n",
    "- Functions are the building blocks of programs, and can be flexibly combined and executed in specified orders\n",
    "    - This allows us to build up arbitrarily complex, well-organized programs"
   ]
  },
  {
   "cell_type": "code",
   "execution_count": 28,
   "metadata": {
    "slideshow": {
     "slide_type": "fragment"
    }
   },
   "outputs": [
    {
     "data": {
      "text/plain": [
       "int"
      ]
     },
     "execution_count": 28,
     "metadata": {},
     "output_type": "execute_result"
    }
   ],
   "source": [
    "# you've seen functions before\n",
    "# here we use the type() function\n",
    "my_var = 3\n",
    "type(my_var)"
   ]
  },
  {
   "cell_type": "code",
   "execution_count": 30,
   "metadata": {
    "slideshow": {
     "slide_type": "fragment"
    }
   },
   "outputs": [
    {
     "name": "stdout",
     "output_type": "stream",
     "text": [
      "3\n"
     ]
    }
   ],
   "source": [
    "# the function print() doesn't depend on type()\n",
    "# but they can both be used on the same variable\n",
    "print(my_var)"
   ]
  },
  {
   "cell_type": "markdown",
   "metadata": {
    "slideshow": {
     "slide_type": "slide"
    }
   },
   "source": [
    "## Function Example I\n",
    "\n",
    "When you use `def` you are creating a **user-defined function**."
   ]
  },
  {
   "cell_type": "code",
   "execution_count": 32,
   "metadata": {
    "slideshow": {
     "slide_type": "fragment"
    }
   },
   "outputs": [],
   "source": [
    "# define a function: double_value\n",
    "# Notice that the paraeter `num` is not explicitly defined with an \"\"\n",
    "# This is because it will be defined later by the user hen they execute the function\n",
    "\n",
    "def double_value(num):\n",
    "    doubled = num + num\n",
    "    return doubled"
   ]
  },
  {
   "cell_type": "code",
   "execution_count": 34,
   "metadata": {
    "slideshow": {
     "slide_type": "fragment"
    }
   },
   "outputs": [
    {
     "data": {
      "text/plain": [
       "6"
      ]
     },
     "execution_count": 34,
     "metadata": {},
     "output_type": "execute_result"
    }
   ],
   "source": [
    "# excecute a function by calling function by name\n",
    "# adding input within parentheses\n",
    "double_value(num = 3)"
   ]
  },
  {
   "cell_type": "code",
   "execution_count": 36,
   "metadata": {},
   "outputs": [
    {
     "data": {
      "text/plain": [
       "8"
      ]
     },
     "execution_count": 36,
     "metadata": {},
     "output_type": "execute_result"
    }
   ],
   "source": [
    "double_value(4)"
   ]
  },
  {
   "cell_type": "code",
   "execution_count": 38,
   "metadata": {},
   "outputs": [
    {
     "name": "stdout",
     "output_type": "stream",
     "text": [
      "14\n"
     ]
    }
   ],
   "source": [
    "mydoubled_var = double_value(7)\n",
    "print(mydoubled_var)"
   ]
  },
  {
   "cell_type": "markdown",
   "metadata": {
    "slideshow": {
     "slide_type": "fragment"
    }
   },
   "source": [
    "All this function is doing is printing the input. It's not actually *storing* any new information. To do that, we need to use `return`."
   ]
  },
  {
   "cell_type": "code",
   "execution_count": 40,
   "metadata": {
    "slideshow": {
     "slide_type": "fragment"
    }
   },
   "outputs": [],
   "source": [
    "# improving that function using return\n",
    "def return_value(num):\n",
    "    \n",
    "    # do some operation\n",
    "    output = num\n",
    "    \n",
    "    # return an answer\n",
    "    return output"
   ]
  },
  {
   "cell_type": "code",
   "execution_count": 42,
   "metadata": {
    "slideshow": {
     "slide_type": "fragment"
    }
   },
   "outputs": [
    {
     "data": {
      "text/plain": [
       "6"
      ]
     },
     "execution_count": 42,
     "metadata": {},
     "output_type": "execute_result"
    }
   ],
   "source": [
    "# excecute that function\n",
    "return_value(6)"
   ]
  },
  {
   "cell_type": "code",
   "execution_count": 44,
   "metadata": {
    "scrolled": true,
    "slideshow": {
     "slide_type": "fragment"
    }
   },
   "outputs": [
    {
     "name": "stdout",
     "output_type": "stream",
     "text": [
      "6\n"
     ]
    }
   ],
   "source": [
    "# execute function but assign output \n",
    "# store that output in variable new_val\n",
    "new_val = return_value(6)\n",
    "print(new_val)"
   ]
  },
  {
   "cell_type": "markdown",
   "metadata": {
    "slideshow": {
     "slide_type": "slide"
    }
   },
   "source": [
    "## Function Example II\n",
    "\n",
    "Something more interesting than just printing or storing a single value"
   ]
  },
  {
   "cell_type": "code",
   "execution_count": 47,
   "metadata": {
    "slideshow": {
     "slide_type": "fragment"
    }
   },
   "outputs": [],
   "source": [
    "def add_two_numbers(num1, num2):\n",
    "    \n",
    "    # Do some operations on the input variables\n",
    "    answer = num1 + num2\n",
    "    \n",
    "    # Return the answer\n",
    "    return answer"
   ]
  },
  {
   "cell_type": "code",
   "execution_count": 49,
   "metadata": {},
   "outputs": [
    {
     "data": {
      "text/plain": [
       "3"
      ]
     },
     "execution_count": 49,
     "metadata": {},
     "output_type": "execute_result"
    }
   ],
   "source": [
    "add_two_numbers(-1, 4)"
   ]
  },
  {
   "cell_type": "code",
   "execution_count": 51,
   "metadata": {
    "scrolled": true,
    "slideshow": {
     "slide_type": "fragment"
    }
   },
   "outputs": [
    {
     "name": "stdout",
     "output_type": "stream",
     "text": [
      "3\n"
     ]
    }
   ],
   "source": [
    "# Execute our function again, on some other inputs\n",
    "output = add_two_numbers(-1, 4)\n",
    "print(output)"
   ]
  },
  {
   "cell_type": "markdown",
   "metadata": {
    "slideshow": {
     "slide_type": "slide"
    }
   },
   "source": [
    "## Function Example III\n",
    "\n",
    "We aren't limited to a single operation within a function. We can use multiple operations and all of the concepts we've used previously (including loops and conditionals)."
   ]
  },
  {
   "cell_type": "code",
   "execution_count": 53,
   "metadata": {
    "slideshow": {
     "slide_type": "fragment"
    }
   },
   "outputs": [],
   "source": [
    "# determine if a value is even or odd\n",
    "def even_odd(value): \n",
    "    if (value % 2 == 0): \n",
    "        print(\"even\")\n",
    "    else: \n",
    "        print(\"odd\")"
   ]
  },
  {
   "cell_type": "code",
   "execution_count": 55,
   "metadata": {
    "scrolled": true,
    "slideshow": {
     "slide_type": "fragment"
    }
   },
   "outputs": [
    {
     "name": "stdout",
     "output_type": "stream",
     "text": [
      "odd\n"
     ]
    }
   ],
   "source": [
    "# Execute our function\n",
    "# note that it's only printing the output\n",
    "even_odd(-1)\n"
   ]
  },
  {
   "cell_type": "code",
   "execution_count": 57,
   "metadata": {
    "slideshow": {
     "slide_type": "fragment"
    }
   },
   "outputs": [],
   "source": [
    "# determine if a value is even or odd\n",
    "# and return that value\n",
    "def even_odd(value): \n",
    "    if (value % 2 == 0): \n",
    "        out = \"even\"\n",
    "    else: \n",
    "        out = \"odd\"\n",
    "    \n",
    "    return out"
   ]
  },
  {
   "cell_type": "code",
   "execution_count": 59,
   "metadata": {
    "scrolled": true,
    "slideshow": {
     "slide_type": "fragment"
    }
   },
   "outputs": [
    {
     "name": "stdout",
     "output_type": "stream",
     "text": [
      "odd\n"
     ]
    }
   ],
   "source": [
    "# Execute our function\n",
    "# note that it's only printing the output\n",
    "my_val = even_odd(-1)\n",
    "print(my_val)"
   ]
  },
  {
   "cell_type": "markdown",
   "metadata": {
    "slideshow": {
     "slide_type": "fragment"
    }
   },
   "source": [
    "With functions, the logic behind our code no longer requires it to be executed from top to bottom of the notebook.\n",
    "\n",
    "The cost of potential confusion is *definitely* offset by the benefits of writing functions and using modular code."
   ]
  },
  {
   "cell_type": "markdown",
   "metadata": {
    "slideshow": {
     "slide_type": "slide"
    }
   },
   "source": [
    "## Function Properties"
   ]
  },
  {
   "cell_type": "markdown",
   "metadata": {
    "slideshow": {
     "slide_type": "fragment"
    }
   },
   "source": [
    "- Functions are defined using `def` followed by `:`, which opens a code-block that comprises the function\n",
    "    - Running code with a `def` block *defines* the function (but does not *execute* it)"
   ]
  },
  {
   "cell_type": "markdown",
   "metadata": {
    "slideshow": {
     "slide_type": "fragment"
    }
   },
   "source": [
    "- Functions are *executed* using parentheses - `()`\n",
    "    - This is when the code inside a function is actually run"
   ]
  },
  {
   "cell_type": "markdown",
   "metadata": {
    "slideshow": {
     "slide_type": "fragment"
    }
   },
   "source": [
    "- Functions have their own namespace\n",
    "    - They only have access to variables explicitly passed into them"
   ]
  },
  {
   "cell_type": "markdown",
   "metadata": {
    "slideshow": {
     "slide_type": "fragment"
    }
   },
   "source": [
    "- Inside a function, there is code that performs operations on the available variables"
   ]
  },
  {
   "cell_type": "markdown",
   "metadata": {
    "slideshow": {
     "slide_type": "fragment"
    }
   },
   "source": [
    "- Functions use the special operator `return` to exit the function, passing out any specified variables"
   ]
  },
  {
   "cell_type": "markdown",
   "metadata": {
    "slideshow": {
     "slide_type": "fragment"
    }
   },
   "source": [
    "- When you use a function, you can assign the output to a variable"
   ]
  },
  {
   "cell_type": "markdown",
   "metadata": {
    "collapsed": true,
    "jupyter": {
     "outputs_hidden": true
    },
    "slideshow": {
     "slide_type": "slide"
    }
   },
   "source": [
    "#### Clicker Question #1"
   ]
  },
  {
   "cell_type": "code",
   "execution_count": 61,
   "metadata": {
    "slideshow": {
     "slide_type": "fragment"
    }
   },
   "outputs": [],
   "source": [
    "def remainder(number, divider):\n",
    "    \n",
    "    r = number % divider\n",
    "    w = number * divider\n",
    "    \n",
    "    return r, w"
   ]
  },
  {
   "cell_type": "code",
   "execution_count": 63,
   "metadata": {},
   "outputs": [
    {
     "name": "stdout",
     "output_type": "stream",
     "text": [
      "0\n",
      "72\n"
     ]
    }
   ],
   "source": [
    "\n",
    "a, b = remainder(12,6)\n",
    "print(a)\n",
    "print(b)"
   ]
  },
  {
   "cell_type": "markdown",
   "metadata": {
    "slideshow": {
     "slide_type": "fragment"
    }
   },
   "source": [
    "Given the function above, what will the code below print out?"
   ]
  },
  {
   "cell_type": "code",
   "execution_count": 65,
   "metadata": {
    "slideshow": {
     "slide_type": "fragment"
    }
   },
   "outputs": [
    {
     "name": "stdout",
     "output_type": "stream",
     "text": [
      "(2, 60, 0, 4)\n"
     ]
    }
   ],
   "source": [
    "ans_1 = remainder(12, 5)\n",
    "ans_2 = remainder(2, 2)\n",
    "\n",
    "print(ans_1 + ans_2)"
   ]
  },
  {
   "cell_type": "markdown",
   "metadata": {
    "slideshow": {
     "slide_type": "fragment"
    }
   },
   "source": [
    "- A) 0\n",
    "- B) 2\n",
    "- C) 4\n",
    "- D) '2r.2 + 1'\n",
    "- E) ¯\\\\\\_(ツ)\\_/¯"
   ]
  },
  {
   "cell_type": "markdown",
   "metadata": {
    "collapsed": true,
    "jupyter": {
     "outputs_hidden": true
    },
    "slideshow": {
     "slide_type": "slide"
    }
   },
   "source": [
    "#### Clicker Question #2\n",
    "\n",
    "Write a function `greet` that takes the parameter `name`. Inside the function, concatenate 'Hello', the person's name, and 'Good morning!\". Assign this to `output` and return `output`.\n",
    "\n",
    "- A) I did it!\n",
    "- B) I think I did it.\n",
    "- C) I tried but am stuck.\n",
    "- D) Super duper lost"
   ]
  },
  {
   "cell_type": "code",
   "execution_count": 71,
   "metadata": {},
   "outputs": [
    {
     "data": {
      "text/plain": [
       "'Hello Shannon Good morning! It is Mon.'"
      ]
     },
     "execution_count": 71,
     "metadata": {},
     "output_type": "execute_result"
    }
   ],
   "source": [
    "greet(name = 'Shannon', day = 'Mon')"
   ]
  },
  {
   "cell_type": "code",
   "execution_count": 69,
   "metadata": {
    "slideshow": {
     "slide_type": "fragment"
    }
   },
   "outputs": [],
   "source": [
    "## YOUR CODE HERE\n",
    "def greet(name, day):\n",
    "    output = 'Hello ' + name + ' Good morning! It is ' + day + '.'\n",
    "    return output"
   ]
  },
  {
   "cell_type": "markdown",
   "metadata": {
    "slideshow": {
     "slide_type": "slide"
    }
   },
   "source": [
    "## Function Namespace I"
   ]
  },
  {
   "cell_type": "code",
   "execution_count": 73,
   "metadata": {
    "slideshow": {
     "slide_type": "fragment"
    }
   },
   "outputs": [
    {
     "name": "stdout",
     "output_type": "stream",
     "text": [
      "Variable               Type        Data/Info\n",
      "--------------------------------------------\n",
      "a                      int         0\n",
      "add_two_numbers        function    <function add_two_numbers at 0x000001E1F12FE980>\n",
      "ans_1                  tuple       n=2\n",
      "ans_2                  tuple       n=2\n",
      "b                      int         72\n",
      "dataframe_columns      function    <function dataframe_colum<...>ns at 0x000001E1F12FE160>\n",
      "dataframe_hash         function    <function dataframe_hash at 0x000001E1F12FC2C0>\n",
      "double_value           function    <function double_value at 0x000001E1EEA93380>\n",
      "dtypes_str             function    <function dtypes_str at 0x000001E1F12FC5E0>\n",
      "even_odd               function    <function even_odd at 0x000001E1F12F3E20>\n",
      "get_dataframes         function    <function get_dataframes at 0x000001E1F12FE020>\n",
      "getpass                module      <module 'getpass' from 'C<...>conda3\\\\Lib\\\\getpass.py'>\n",
      "greet                  function    <function greet at 0x000001E1F12FC180>\n",
      "hashlib                module      <module 'hashlib' from 'C<...>conda3\\\\Lib\\\\hashlib.py'>\n",
      "import_pandas_safely   function    <function import_pandas_s<...>ly at 0x000001E1F12FCF40>\n",
      "is_data_frame          function    <function is_data_frame at 0x000001E1F12FCE00>\n",
      "json                   module      <module 'json' from 'C:\\\\<...>\\Lib\\\\json\\\\__init__.py'>\n",
      "my_val                 str         odd\n",
      "my_var                 int         3\n",
      "mydoubled_var          int         14\n",
      "new_val                int         6\n",
      "output                 int         3\n",
      "remainder              function    <function remainder at 0x000001E1F12FE340>\n",
      "return_value           function    <function return_value at 0x000001E1F12F2700>\n"
     ]
    }
   ],
   "source": [
    "# Remember, you can check defined variables with `%whos`\n",
    "%whos"
   ]
  },
  {
   "cell_type": "markdown",
   "metadata": {
    "slideshow": {
     "slide_type": "slide"
    }
   },
   "source": [
    "## Function Namespaces II"
   ]
  },
  {
   "cell_type": "code",
   "execution_count": 75,
   "metadata": {
    "slideshow": {
     "slide_type": "fragment"
    }
   },
   "outputs": [],
   "source": [
    "def check_function_namespace(function_input):\n",
    "    # Check what is defined and available inside the function\n",
    "    print(locals())"
   ]
  },
  {
   "cell_type": "code",
   "execution_count": 77,
   "metadata": {
    "slideshow": {
     "slide_type": "fragment"
    }
   },
   "outputs": [
    {
     "name": "stdout",
     "output_type": "stream",
     "text": [
      "{'function_input': 1}\n"
     ]
    }
   ],
   "source": [
    "# Functions don't `see` everything\n",
    "check_function_namespace(1)"
   ]
  },
  {
   "cell_type": "code",
   "execution_count": 79,
   "metadata": {
    "slideshow": {
     "slide_type": "fragment"
    }
   },
   "outputs": [
    {
     "name": "stdout",
     "output_type": "stream",
     "text": [
      "{'function_input': True}\n"
     ]
    }
   ],
   "source": [
    "# Functions don't `see` everything\n",
    "check_function_namespace(True)"
   ]
  },
  {
   "cell_type": "code",
   "execution_count": 81,
   "metadata": {
    "slideshow": {
     "slide_type": "fragment"
    }
   },
   "outputs": [],
   "source": [
    "# using two different inputs to a function\n",
    "def check_function_namespace2(function_input, other_name):\n",
    "    # Check what is defined and available inside the function\n",
    "    print(locals())"
   ]
  },
  {
   "cell_type": "code",
   "execution_count": 83,
   "metadata": {
    "slideshow": {
     "slide_type": "fragment"
    }
   },
   "outputs": [
    {
     "name": "stdout",
     "output_type": "stream",
     "text": [
      "{'function_input': 1, 'other_name': True}\n"
     ]
    }
   ],
   "source": [
    "# returning what each input is storing\n",
    "check_function_namespace2(1, True)"
   ]
  },
  {
   "cell_type": "markdown",
   "metadata": {
    "slideshow": {
     "slide_type": "slide"
    }
   },
   "source": [
    "## Function Namespaces III\n",
    "\n",
    "Names defined inside a function only exist within the function."
   ]
  },
  {
   "cell_type": "code",
   "execution_count": 85,
   "metadata": {
    "slideshow": {
     "slide_type": "fragment"
    }
   },
   "outputs": [
    {
     "name": "stdout",
     "output_type": "stream",
     "text": [
      "{'function_input': 'I am a variable'}\n",
      "I am a variable\n"
     ]
    }
   ],
   "source": [
    "# Names used inside a function are independent of those used outside\n",
    "# variables defined outside of functions are global variables\n",
    "# global variables are always available\n",
    "my_var = 'I am a variable'\n",
    "\n",
    "check_function_namespace(my_var)\n",
    "\n",
    "print(my_var)"
   ]
  },
  {
   "cell_type": "markdown",
   "metadata": {
    "slideshow": {
     "slide_type": "slide"
    }
   },
   "source": [
    "## Function - Execution Order"
   ]
  },
  {
   "cell_type": "code",
   "execution_count": 87,
   "metadata": {
    "slideshow": {
     "slide_type": "fragment"
    }
   },
   "outputs": [],
   "source": [
    "def change_var(my_var):\n",
    "    my_var = 'I am something else'\n",
    "    print('Inside function: \\t\\t', my_var)"
   ]
  },
  {
   "cell_type": "code",
   "execution_count": 89,
   "metadata": {
    "slideshow": {
     "slide_type": "fragment"
    }
   },
   "outputs": [
    {
     "data": {
      "text/plain": [
       "'I am a variable'"
      ]
     },
     "execution_count": 89,
     "metadata": {},
     "output_type": "execute_result"
    }
   ],
   "source": [
    "# my_var in the global namespace\n",
    "my_var"
   ]
  },
  {
   "cell_type": "code",
   "execution_count": 91,
   "metadata": {
    "slideshow": {
     "slide_type": "fragment"
    }
   },
   "outputs": [
    {
     "name": "stdout",
     "output_type": "stream",
     "text": [
      "Inside function: \t\t I am something else\n"
     ]
    }
   ],
   "source": [
    "# my_var within the function\n",
    "change_var(my_var)"
   ]
  },
  {
   "cell_type": "code",
   "execution_count": 93,
   "metadata": {
    "slideshow": {
     "slide_type": "fragment"
    }
   },
   "outputs": [
    {
     "data": {
      "text/plain": [
       "'I am a variable'"
      ]
     },
     "execution_count": 93,
     "metadata": {},
     "output_type": "execute_result"
    }
   ],
   "source": [
    "# my_var in the global namespace remains unchanged\n",
    "my_var "
   ]
  },
  {
   "cell_type": "code",
   "execution_count": 95,
   "metadata": {
    "slideshow": {
     "slide_type": "fragment"
    }
   },
   "outputs": [
    {
     "name": "stdout",
     "output_type": "stream",
     "text": [
      "Outside, before function: \t I am a variable\n",
      "Inside function: \t\t I am something else\n",
      "Outside, after function: \t I am a variable\n"
     ]
    }
   ],
   "source": [
    "print('Outside, before function: \\t', my_var)\n",
    "change_var(my_var)\n",
    "print('Outside, after function: \\t', my_var)"
   ]
  },
  {
   "cell_type": "code",
   "execution_count": null,
   "metadata": {},
   "outputs": [],
   "source": []
  }
 ],
 "metadata": {
  "celltoolbar": "Slideshow",
  "kernelspec": {
   "display_name": "Python 3 (ipykernel)",
   "language": "python",
   "name": "python3"
  },
  "language_info": {
   "codemirror_mode": {
    "name": "ipython",
    "version": 3
   },
   "file_extension": ".py",
   "mimetype": "text/x-python",
   "name": "python",
   "nbconvert_exporter": "python",
   "pygments_lexer": "ipython3",
   "version": "3.12.4"
  },
  "rise": {
   "scroll": true
  }
 },
 "nbformat": 4,
 "nbformat_minor": 4
}
